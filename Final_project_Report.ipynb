{
  "nbformat": 4,
  "nbformat_minor": 0,
  "metadata": {
    "colab": {
      "provenance": []
    },
    "kernelspec": {
      "name": "python3",
      "display_name": "Python 3"
    },
    "language_info": {
      "name": "python"
    }
  },
  "cells": [
    {
      "cell_type": "markdown",
      "source": [
        "# Predictive Modeling for Car Insurance Claims"
      ],
      "metadata": {
        "id": "A_YPJQgDtjNd"
      }
    },
    {
      "cell_type": "markdown",
      "source": [
        "## Introduction"
      ],
      "metadata": {
        "id": "OyISUaXPxO4U"
      }
    },
    {
      "cell_type": "markdown",
      "source": [
        "Car insurance plays a critical role in the financial stability of vehicle owners, especially during accidents or damage. Insurance companies face the challenge of determining which customers are most likely to make claims. By identifying these patterns early, insurers can optimize their pricing strategies, improve risk management, and enhance their claims processing systems. In the insurance industry, identifying high-risk customers who are likely to file claims is crucial for optimizing resources, mitigating fraud, and improving operational efficiency. In this project, I thus focus on developing a predictive model that uses customer demographics, vehicle information, and historical claims data to predict the likelihood of future claims.\n",
        "\n",
        "The dataset, sourced from Kaggle, contains customer demographics, vehicle details, and insurance-related history. The goal is to understand the relationship between these variables and the occurrence of claims (claim_flag) to build a predictive model that estimates whether a policyholder will file an insurance claim or not. I explore several models: Logistic Regression, Decision Trees, Random Forest, and XGBoost, assessing their performance and identifying key predictive features.\n",
        "\n",
        "Through this report, I shall take you through the steps involved, including data cleaning, exploration, model development, and analysis of outcomes. The final findings provide insights into factors influencing claims and demonstrate how machine learning can empower decision-making in insurance.\n"
      ],
      "metadata": {
        "id": "aiiKdoqOtlpX"
      }
    },
    {
      "cell_type": "markdown",
      "source": [
        "## Data Description"
      ],
      "metadata": {
        "id": "JY1GIjyMxNPr"
      }
    },
    {
      "cell_type": "markdown",
      "source": [
        "The dataset used for this analysis was sourced from https://www.kaggle.com/datasets/xiaomengsun/car-insurance-claim-data/data.\n",
        "It comprises of 26 features and a binary target variable, claim_flag.\n",
        "\n",
        "Feature Overview:\n",
        "\n",
        "Demographic Features:\n",
        "\n",
        "*   youth_drivers: Number of young drivers in the household.\n",
        "*   age: Age of the primary policyholder.\n",
        "*   num_of_children: Number of children in the household.\n",
        "*   years_on_job: Number of years the policyholder has been employed.\n",
        "*   income: Annual income of the policyholder.\n",
        "*   single_parent: Whether the policyholder is a single parent.\n",
        "*   marital_status: Marital status of the policyholder.\n",
        "*   gender: Gender of the policyholder.\n",
        "*   education_level: Highest education level achieved by the policyholder.\n",
        "*   occupation: Occupation of the policyholder.\n",
        "\n",
        "Vehicle-Related Features:\n",
        "\n",
        "*  vehicle_value: Value of the vehicle.\n",
        "*  vehicle_age: Age of the vehicle.\n",
        "*  vehicle_type: Type of vehicle (e.g., van, sedan, SUV).\n",
        "*  red_vehicle: Whether the vehicle is red (Yes/No).\n",
        "*  travel_time: Estimated travel time for the policyholder.\n",
        "\n",
        "Historical Claim and Licensing Features:\n",
        "\n",
        "* 5yr_total_claims_value: Total value of claims filed in the past five years.\n",
        "* 5yr_num_of_claims: Number of claims filed in the past five years.\n",
        "* licence_revoked: Whether the policyholder's license has been revoked.\n",
        "* license_points: Number of penalty points on the policyholder's license.\n",
        "* time_in_force: Duration for which the policy has been active (in months).\n",
        "* claim_flag: Target variable (1 if a claim was filed, 0 otherwise).\n",
        "\n",
        "Additional Features:\n",
        "\n",
        "* area: Type of area the policyholder resides in (urban/rural).\n",
        "* home_value: Estimated value of the policyholder's home.\n",
        "* new_claim_amount: Amount associated with a new claim.\n",
        "* type_of_use: Primary vehicle use (commercial or private)."
      ],
      "metadata": {
        "id": "NclR2qDzwu5t"
      }
    },
    {
      "cell_type": "markdown",
      "source": [
        "Under basic data cleaning, I first renamed the columns for better readability. Several monetary columns such as income and vehicle_value contained special characters like $ and commas, which were removed to convert them into numerical format. I also dropped unnecessary features like ID and DOB, as they did not contribute to the prediction task.\n",
        "\n",
        "The dataset is imbalanced, with most policyholders not filing claims. This imbalance makes prediction more challenging, as models may tend to favor the majority class (no claims) while ignoring the minority class (claims). I addressed this later during modeling through stratified sampling and careful performance evaluation."
      ],
      "metadata": {
        "id": "8Q_AFNPszoY1"
      }
    },
    {
      "cell_type": "markdown",
      "source": [
        "### Exploratory Data Analysis (EDA)"
      ],
      "metadata": {
        "id": "Lhi6KWRX0j1o"
      }
    },
    {
      "cell_type": "markdown",
      "source": [
        "Before modeling, I explored the data to identify patterns and relationships between features and the target variable. This phase helped me understand feature importance and make informed preprocessing decisions. Histograms and boxplots were generated to visualize distributions of selected numerical features.\n",
        "The graphs revealed that:\n",
        "\n",
        "Income:\n",
        "Claimants and non-claimants have similar median incomes, but claimants show more extreme outliers at higher income levels, suggesting no strong correlation between income and claims.\n",
        "\n",
        "New Claim Amount:\n",
        "The distribution remains very low, suggesting that even for those who file claims, the claim amount is often modest.\n",
        "\n",
        "5-Year Number of Claims:\n",
        "Claimants tend to have a higher number of claims in the past 5 years, highlighting claim history as a strong predictor of future claims.\n",
        "\n",
        "Vehicle Age:\n",
        "Older vehicles are more likely to be associated with claims, suggesting that vehicle age is a relevant predictor due to increased likelihood of issues with aging vehicles.\n",
        "\n",
        "License Points:\n",
        "Individuals with higher license points, indicative of poor driving behavior, are more likely to file claims, making this a key feature in predicting claim likelihood."
      ],
      "metadata": {
        "id": "oquP5wfQ07sM"
      }
    },
    {
      "cell_type": "markdown",
      "source": [
        "Feature Correlations:\n",
        "\n",
        "To quantify relationships, I computed the correlation matrix. To visualise this, I showed a heatmap. The features 5yr_num_of_claims and license_points emerged as the most positively correlated with claim_flag. Other variables like income an home_value also showed correlations. This initial analysis informed feature selection and guided our preprocessing decisions. Features with very low correlation (e.g., red_vehicle) were removed."
      ],
      "metadata": {
        "id": "L8xg5AYM3GNZ"
      }
    },
    {
      "cell_type": "markdown",
      "source": [],
      "metadata": {
        "id": "wcZnVYiq4BBS"
      }
    }
  ]
}